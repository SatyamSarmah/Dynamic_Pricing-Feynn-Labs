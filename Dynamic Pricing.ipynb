{
 "cells": [
  {
   "cell_type": "markdown",
   "metadata": {},
   "source": [
    "# Pricing\n",
    "\n",
    "A game company gave gift coins to its users for purchasing items in a game. Using these virtual coins, users buy various \n",
    "vehicles for their characters. The game company did not specify a price for an item and provided users to buy this item \n",
    "at the price they wanted. For example, for the item named shield, users will buy this shield by paying the amounts they \n",
    "see fit. For example, a user can pay with 30 units of virtual money given to him, while the other user can pay with 45 \n",
    "units. Therefore, users can buy this item with the amounts they can afford to pay."
   ]
  },
  {
   "cell_type": "markdown",
   "metadata": {},
   "source": [
    "## Data Preparation"
   ]
  },
  {
   "cell_type": "markdown",
   "metadata": {},
   "source": [
    "### Import Libraries"
   ]
  },
  {
   "cell_type": "code",
   "execution_count": 1,
   "metadata": {},
   "outputs": [],
   "source": [
    "import pandas as pd\n",
    "import itertools\n",
    "import statsmodels.stats.api as sms\n",
    "from scipy.stats import shapiro\n",
    "import scipy.stats as stats\n",
    "import warnings\n",
    "warnings.filterwarnings(\"ignore\")"
   ]
  },
  {
   "cell_type": "markdown",
   "metadata": {},
   "source": [
    "### Load Data"
   ]
  },
  {
   "cell_type": "code",
   "execution_count": 3,
   "metadata": {},
   "outputs": [
    {
     "data": {
      "text/html": [
       "<div>\n",
       "<style scoped>\n",
       "    .dataframe tbody tr th:only-of-type {\n",
       "        vertical-align: middle;\n",
       "    }\n",
       "\n",
       "    .dataframe tbody tr th {\n",
       "        vertical-align: top;\n",
       "    }\n",
       "\n",
       "    .dataframe thead th {\n",
       "        text-align: right;\n",
       "    }\n",
       "</style>\n",
       "<table border=\"1\" class=\"dataframe\">\n",
       "  <thead>\n",
       "    <tr style=\"text-align: right;\">\n",
       "      <th></th>\n",
       "      <th>category_id</th>\n",
       "      <th>price</th>\n",
       "    </tr>\n",
       "  </thead>\n",
       "  <tbody>\n",
       "    <tr>\n",
       "      <th>0</th>\n",
       "      <td>489756</td>\n",
       "      <td>32.117753</td>\n",
       "    </tr>\n",
       "    <tr>\n",
       "      <th>1</th>\n",
       "      <td>361254</td>\n",
       "      <td>30.711370</td>\n",
       "    </tr>\n",
       "    <tr>\n",
       "      <th>2</th>\n",
       "      <td>361254</td>\n",
       "      <td>31.572607</td>\n",
       "    </tr>\n",
       "    <tr>\n",
       "      <th>3</th>\n",
       "      <td>489756</td>\n",
       "      <td>34.543840</td>\n",
       "    </tr>\n",
       "    <tr>\n",
       "      <th>4</th>\n",
       "      <td>489756</td>\n",
       "      <td>47.205824</td>\n",
       "    </tr>\n",
       "  </tbody>\n",
       "</table>\n",
       "</div>"
      ],
      "text/plain": [
       "   category_id      price\n",
       "0       489756  32.117753\n",
       "1       361254  30.711370\n",
       "2       361254  31.572607\n",
       "3       489756  34.543840\n",
       "4       489756  47.205824"
      ]
     },
     "execution_count": 3,
     "metadata": {},
     "output_type": "execute_result"
    }
   ],
   "source": [
    "df = pd.read_csv(\"https://raw.githubusercontent.com/SatyamSarmah/Dynamic_Pricing-Feynn-Labs/main/pricing.csv\", sep=\";\")\n",
    "pd.set_option('display.max_columns', None)\n",
    "df.head()"
   ]
  },
  {
   "cell_type": "markdown",
   "metadata": {},
   "source": [
    "### Data Analysis"
   ]
  },
  {
   "cell_type": "code",
   "execution_count": 4,
   "metadata": {},
   "outputs": [
    {
     "name": "stdout",
     "output_type": "stream",
     "text": [
      "Data:    category_id      price\n",
      "0       489756  32.117753\n",
      "1       361254  30.711370\n",
      "2       361254  31.572607\n",
      "3       489756  34.543840\n",
      "4       489756  47.205824 \n",
      "\n",
      "Shape:(3448, 2) \n",
      "\n",
      "Number of unique categories: 6 \n",
      "\n",
      "Name of categories: [489756 361254 874521 326584 675201 201436] \n",
      "\n",
      "Null value: category_id    0\n",
      "price          0\n",
      "dtype: int64 \n",
      "\n",
      "              count           mean            std       min        1%  \\\n",
      "category_id  3448.0  542415.171984  192805.689911  201436.0  201436.0   \n",
      "price        3448.0    3254.475770   25235.799009      10.0      30.0   \n",
      "\n",
      "                   5%            50%            95%            99%  \\\n",
      "category_id  326584.0  489756.000000  874521.000000  874521.000000   \n",
      "price            30.0      34.798544      92.978218  201436.464204   \n",
      "\n",
      "                       max  \n",
      "category_id  874521.000000  \n",
      "price        201436.991255  \n"
     ]
    }
   ],
   "source": [
    "def data_analysis(dataframe):\n",
    "    print(f'Data: {dataframe.head(5)} \\n')\n",
    "    print(f'Shape:{dataframe.shape} \\n')\n",
    "    print(f'Number of unique categories: {dataframe[\"category_id\"].nunique()} \\n')\n",
    "    print(f'Name of categories: {dataframe.category_id.unique()} \\n')\n",
    "    print(f'Null value: {dataframe.isnull().sum()} \\n')\n",
    "    print(dataframe.describe([0.01, 0.05, 0.50, 0.95, 0.99]).T)\n",
    "    \n",
    "    \n",
    "data_analysis(df)"
   ]
  },
  {
   "cell_type": "markdown",
   "metadata": {},
   "source": [
    "There is a difference between 95% and 99% values."
   ]
  },
  {
   "cell_type": "markdown",
   "metadata": {},
   "source": [
    "### Outlier Values"
   ]
  },
  {
   "cell_type": "code",
   "execution_count": 5,
   "metadata": {},
   "outputs": [
    {
     "name": "stdout",
     "output_type": "stream",
     "text": [
      "Low Limit: -64.46732638496242  Up Limit: 187.44554397493738\n"
     ]
    }
   ],
   "source": [
    "def outlier_thresholds(dataframe, variable):\n",
    "    quartile1 = dataframe[variable].quantile(0.05)\n",
    "    quartile3 = dataframe[variable].quantile(0.95)\n",
    "    interquantile_range = quartile3 - quartile1\n",
    "    up_limit = quartile3 + 1.5 * interquantile_range\n",
    "    low_limit = quartile1 - 1.5 * interquantile_range\n",
    "    return low_limit, up_limit\n",
    "\n",
    "low, up = outlier_thresholds(df, variable=\"price\")\n",
    "print(f'Low Limit: {low}  Up Limit: {up}')"
   ]
  },
  {
   "cell_type": "markdown",
   "metadata": {},
   "source": [
    "Threshold values are determined for the price variable"
   ]
  },
  {
   "cell_type": "code",
   "execution_count": 6,
   "metadata": {},
   "outputs": [
    {
     "name": "stdout",
     "output_type": "stream",
     "text": [
      "price : 77 outliers\n"
     ]
    }
   ],
   "source": [
    "def has_outliers(dataframe, numeric_columns):\n",
    "    for col in numeric_columns:\n",
    "        low_limit, up_limit = outlier_thresholds(dataframe, col)\n",
    "        if dataframe[(dataframe[col] > up_limit) | (dataframe[col] < low_limit)].any(axis=None):\n",
    "            number_of_outliers = dataframe[(dataframe[col] > up_limit) | (dataframe[col] < low_limit)].shape[0]\n",
    "            print(col, \":\", number_of_outliers, \"outliers\")\n",
    "\n",
    "has_outliers(df, ['price'])"
   ]
  },
  {
   "cell_type": "code",
   "execution_count": 7,
   "metadata": {},
   "outputs": [
    {
     "name": "stdout",
     "output_type": "stream",
     "text": [
      "Data:    category_id      price\n",
      "0       489756  32.117753\n",
      "1       361254  30.711370\n",
      "2       361254  31.572607\n",
      "3       489756  34.543840\n",
      "4       489756  47.205824 \n",
      "\n",
      "Shape:(3371, 2) \n",
      "\n",
      "Number of unique categories: 6 \n",
      "\n",
      "Name of categories: [489756 361254 874521 326584 675201 201436] \n",
      "\n",
      "Null value: category_id    0\n",
      "price          0\n",
      "dtype: int64 \n",
      "\n",
      "              count           mean            std       min        1%  \\\n",
      "category_id  3371.0  541235.913082  192847.981205  201436.0  201436.0   \n",
      "price        3371.0      40.398652      18.205540      10.0      30.0   \n",
      "\n",
      "                   5%           50%            95%            99%  \\\n",
      "category_id  326584.0  489756.00000  874521.000000  874521.000000   \n",
      "price            30.0      34.74272      73.680507     126.786865   \n",
      "\n",
      "                       max  \n",
      "category_id  874521.000000  \n",
      "price           187.445135  \n"
     ]
    }
   ],
   "source": [
    "def remove_outliers(dataframe, numeric_columns):\n",
    "    for variable in numeric_columns:\n",
    "        low_limit, up_limit = outlier_thresholds(dataframe, variable)\n",
    "        dataframe_without_outliers = dataframe[~((dataframe[variable] < low_limit) | (dataframe[variable] > up_limit))]\n",
    "    return dataframe_without_outliers\n",
    "\n",
    "df = remove_outliers(df, [\"price\"])\n",
    "data_analysis(df)"
   ]
  },
  {
   "cell_type": "code",
   "execution_count": 8,
   "metadata": {},
   "outputs": [
    {
     "data": {
      "text/html": [
       "<div>\n",
       "<style scoped>\n",
       "    .dataframe tbody tr th:only-of-type {\n",
       "        vertical-align: middle;\n",
       "    }\n",
       "\n",
       "    .dataframe tbody tr th {\n",
       "        vertical-align: top;\n",
       "    }\n",
       "\n",
       "    .dataframe thead th {\n",
       "        text-align: right;\n",
       "    }\n",
       "</style>\n",
       "<table border=\"1\" class=\"dataframe\">\n",
       "  <thead>\n",
       "    <tr style=\"text-align: right;\">\n",
       "      <th></th>\n",
       "      <th>category_id</th>\n",
       "      <th>price</th>\n",
       "    </tr>\n",
       "  </thead>\n",
       "  <tbody>\n",
       "    <tr>\n",
       "      <th>0</th>\n",
       "      <td>201436</td>\n",
       "      <td>36.175498</td>\n",
       "    </tr>\n",
       "    <tr>\n",
       "      <th>1</th>\n",
       "      <td>326584</td>\n",
       "      <td>35.693170</td>\n",
       "    </tr>\n",
       "    <tr>\n",
       "      <th>2</th>\n",
       "      <td>361254</td>\n",
       "      <td>35.477261</td>\n",
       "    </tr>\n",
       "    <tr>\n",
       "      <th>3</th>\n",
       "      <td>489756</td>\n",
       "      <td>43.603983</td>\n",
       "    </tr>\n",
       "    <tr>\n",
       "      <th>4</th>\n",
       "      <td>675201</td>\n",
       "      <td>37.443592</td>\n",
       "    </tr>\n",
       "    <tr>\n",
       "      <th>5</th>\n",
       "      <td>874521</td>\n",
       "      <td>39.273175</td>\n",
       "    </tr>\n",
       "  </tbody>\n",
       "</table>\n",
       "</div>"
      ],
      "text/plain": [
       "   category_id      price\n",
       "0       201436  36.175498\n",
       "1       326584  35.693170\n",
       "2       361254  35.477261\n",
       "3       489756  43.603983\n",
       "4       675201  37.443592\n",
       "5       874521  39.273175"
      ]
     },
     "execution_count": 8,
     "metadata": {},
     "output_type": "execute_result"
    }
   ],
   "source": [
    "# When the average price by categories is analyzed,we can make comparisons for groups,but we need to prove this statistically\n",
    "df.groupby(\"category_id\").agg({\"price\": \"mean\"}).reset_index()"
   ]
  },
  {
   "cell_type": "markdown",
   "metadata": {},
   "source": [
    "When we look at the average of the categories, we can observe. But these observations are not statistically significant \n",
    "results. So, we will test all hypotheses of categories in pairs and obtain statistical results."
   ]
  },
  {
   "cell_type": "markdown",
   "metadata": {},
   "source": [
    "## Testing"
   ]
  },
  {
   "cell_type": "markdown",
   "metadata": {},
   "source": [
    "### 1.Checking Assumptions\n",
    "1.1 Normal Distribution\n",
    "1.2 Homogeneity of Variance\n",
    "\n",
    "1.1 Normal Distribution\n",
    "H0: There is no statistically significant difference between sample distribution and theoretical normal distribution. \n",
    "H1: There is statistically significant difference between sample distribution and theoretical normal distribution"
   ]
  },
  {
   "cell_type": "code",
   "execution_count": 9,
   "metadata": {},
   "outputs": [
    {
     "name": "stdout",
     "output_type": "stream",
     "text": [
      "Shapiro Wilks Test Result \n",
      "\n",
      "489756:\n",
      "Test statistic = 0.6328, p-value = 0.0000 H0 is rejected\n",
      "361254:\n",
      "Test statistic = 0.4757, p-value = 0.0000 H0 is rejected\n",
      "874521:\n",
      "Test statistic = 0.5116, p-value = 0.0000 H0 is rejected\n",
      "326584:\n",
      "Test statistic = 0.5026, p-value = 0.0000 H0 is rejected\n",
      "675201:\n",
      "Test statistic = 0.6382, p-value = 0.0000 H0 is rejected\n",
      "201436:\n",
      "Test statistic = 0.6190, p-value = 0.0000 H0 is rejected\n"
     ]
    }
   ],
   "source": [
    "print(\"Shapiro Wilks Test Result \\n\")\n",
    "for x in df[\"category_id\"].unique():\n",
    "    test_statistic, pvalue = shapiro(df.loc[df[\"category_id\"] == x, \"price\"])\n",
    "    if (pvalue<0.05):\n",
    "        print(f'{x}:')\n",
    "        print('Test statistic = %.4f, p-value = %.4f' % (test_statistic, pvalue), \"H0 is rejected\")\n",
    "    else:\n",
    "        print(f'{x}:')\n",
    "        print('Test statistic = %.4f, p-value = %.4f' % (test_statistic, pvalue), \"H0 is not rejected\")"
   ]
  },
  {
   "cell_type": "markdown",
   "metadata": {},
   "source": [
    "Normal distribution is not provided,so we can apply a non-parametric method"
   ]
  },
  {
   "cell_type": "markdown",
   "metadata": {},
   "source": [
    "### 2.Implementing Hypothesis"
   ]
  },
  {
   "cell_type": "code",
   "execution_count": 10,
   "metadata": {},
   "outputs": [
    {
     "name": "stdout",
     "output_type": "stream",
     "text": [
      "Mann-Whitney U Test Result \n",
      "\n",
      " 489756 - 361254 \n",
      "Test statistic= 371652.5000, p-value= 0.0000 H0 is rejected\n",
      "\n",
      " 489756 - 874521 \n",
      "Test statistic= 482405.0000, p-value= 0.0000 H0 is rejected\n",
      "\n",
      " 489756 - 326584 \n",
      "Test statistic= 68317.0000, p-value= 0.0000 H0 is rejected\n",
      "\n",
      " 489756 - 675201 \n",
      "Test statistic= 83360.5000, p-value= 0.0000 H0 is rejected\n",
      "\n",
      " 489756 - 201436 \n",
      "Test statistic= 60158.0000, p-value= 0.0000 H0 is rejected\n",
      "\n",
      " 361254 - 874521 \n",
      "Test statistic= 214411.0000, p-value= 0.0909 H0 is not rejected\n",
      "\n",
      " 361254 - 326584 \n",
      "Test statistic= 32541.0000, p-value= 0.0000 H0 is rejected\n",
      "\n",
      " 361254 - 675201 \n",
      "Test statistic= 38936.0000, p-value= 0.3708 H0 is not rejected\n",
      "\n",
      " 361254 - 201436 \n",
      "Test statistic= 29521.0000, p-value= 0.4354 H0 is not rejected\n",
      "\n",
      " 874521 - 326584 \n",
      "Test statistic= 38009.0000, p-value= 0.0000 H0 is rejected\n",
      "\n",
      " 874521 - 675201 \n",
      "Test statistic= 46044.0000, p-value= 0.3623 H0 is not rejected\n",
      "\n",
      " 874521 - 201436 \n",
      "Test statistic= 34006.0000, p-value= 0.2772 H0 is not rejected\n",
      "\n",
      " 326584 - 675201 \n",
      "Test statistic= 6833.5000, p-value= 0.0001 H0 is rejected\n",
      "\n",
      " 326584 - 201436 \n",
      "Test statistic= 5204.0000, p-value= 0.0003 H0 is rejected\n",
      "\n",
      " 675201 - 201436 \n",
      "Test statistic= 6121.0000, p-value= 0.3905 H0 is not rejected\n"
     ]
    }
   ],
   "source": [
    "groups = []\n",
    "for x in itertools.combinations(df[\"category_id\"].unique(),2):\n",
    "    groups.append(x)\n",
    "\n",
    "result = []\n",
    "print(\"Mann-Whitney U Test Result \")\n",
    "for x in groups:\n",
    "    test_statistic, pvalue = stats.stats.mannwhitneyu(df.loc[df[\"category_id\"] == x[0], \"price\"],\n",
    "                                                      df.loc[df[\"category_id\"] == x[1], \"price\"])\n",
    "    if (pvalue<0.05):\n",
    "        result.append((x[0], x[1], \"H0 is rejected\"))\n",
    "        print('\\n', \"{0} - {1} \".format(x[0], x[1]))\n",
    "        print('Test statistic= %.4f, p-value= %.4f' % (test_statistic, pvalue), \"H0 is rejected\")\n",
    "    else:\n",
    "        result.append((x[0], x[1], \"H0 is not rejected\"))\n",
    "        print('\\n', \"{0} - {1} \".format(x[0], x[1]))\n",
    "        print('Test statistic= %.4f, p-value= %.4f' % (test_statistic, pvalue), \"H0 is not rejected\")"
   ]
  },
  {
   "cell_type": "code",
   "execution_count": 11,
   "metadata": {},
   "outputs": [
    {
     "data": {
      "text/html": [
       "<div>\n",
       "<style scoped>\n",
       "    .dataframe tbody tr th:only-of-type {\n",
       "        vertical-align: middle;\n",
       "    }\n",
       "\n",
       "    .dataframe tbody tr th {\n",
       "        vertical-align: top;\n",
       "    }\n",
       "\n",
       "    .dataframe thead th {\n",
       "        text-align: right;\n",
       "    }\n",
       "</style>\n",
       "<table border=\"1\" class=\"dataframe\">\n",
       "  <thead>\n",
       "    <tr style=\"text-align: right;\">\n",
       "      <th></th>\n",
       "      <th>Category 1</th>\n",
       "      <th>Category 2</th>\n",
       "      <th>H0</th>\n",
       "    </tr>\n",
       "  </thead>\n",
       "  <tbody>\n",
       "    <tr>\n",
       "      <th>0</th>\n",
       "      <td>489756</td>\n",
       "      <td>361254</td>\n",
       "      <td>H0 is rejected</td>\n",
       "    </tr>\n",
       "    <tr>\n",
       "      <th>1</th>\n",
       "      <td>489756</td>\n",
       "      <td>874521</td>\n",
       "      <td>H0 is rejected</td>\n",
       "    </tr>\n",
       "    <tr>\n",
       "      <th>2</th>\n",
       "      <td>489756</td>\n",
       "      <td>326584</td>\n",
       "      <td>H0 is rejected</td>\n",
       "    </tr>\n",
       "    <tr>\n",
       "      <th>3</th>\n",
       "      <td>489756</td>\n",
       "      <td>675201</td>\n",
       "      <td>H0 is rejected</td>\n",
       "    </tr>\n",
       "    <tr>\n",
       "      <th>4</th>\n",
       "      <td>489756</td>\n",
       "      <td>201436</td>\n",
       "      <td>H0 is rejected</td>\n",
       "    </tr>\n",
       "    <tr>\n",
       "      <th>5</th>\n",
       "      <td>361254</td>\n",
       "      <td>874521</td>\n",
       "      <td>H0 is not rejected</td>\n",
       "    </tr>\n",
       "    <tr>\n",
       "      <th>6</th>\n",
       "      <td>361254</td>\n",
       "      <td>326584</td>\n",
       "      <td>H0 is rejected</td>\n",
       "    </tr>\n",
       "    <tr>\n",
       "      <th>7</th>\n",
       "      <td>361254</td>\n",
       "      <td>675201</td>\n",
       "      <td>H0 is not rejected</td>\n",
       "    </tr>\n",
       "    <tr>\n",
       "      <th>8</th>\n",
       "      <td>361254</td>\n",
       "      <td>201436</td>\n",
       "      <td>H0 is not rejected</td>\n",
       "    </tr>\n",
       "    <tr>\n",
       "      <th>9</th>\n",
       "      <td>874521</td>\n",
       "      <td>326584</td>\n",
       "      <td>H0 is rejected</td>\n",
       "    </tr>\n",
       "    <tr>\n",
       "      <th>10</th>\n",
       "      <td>874521</td>\n",
       "      <td>675201</td>\n",
       "      <td>H0 is not rejected</td>\n",
       "    </tr>\n",
       "    <tr>\n",
       "      <th>11</th>\n",
       "      <td>874521</td>\n",
       "      <td>201436</td>\n",
       "      <td>H0 is not rejected</td>\n",
       "    </tr>\n",
       "    <tr>\n",
       "      <th>12</th>\n",
       "      <td>326584</td>\n",
       "      <td>675201</td>\n",
       "      <td>H0 is rejected</td>\n",
       "    </tr>\n",
       "    <tr>\n",
       "      <th>13</th>\n",
       "      <td>326584</td>\n",
       "      <td>201436</td>\n",
       "      <td>H0 is rejected</td>\n",
       "    </tr>\n",
       "    <tr>\n",
       "      <th>14</th>\n",
       "      <td>675201</td>\n",
       "      <td>201436</td>\n",
       "      <td>H0 is not rejected</td>\n",
       "    </tr>\n",
       "  </tbody>\n",
       "</table>\n",
       "</div>"
      ],
      "text/plain": [
       "    Category 1  Category 2                  H0\n",
       "0       489756      361254      H0 is rejected\n",
       "1       489756      874521      H0 is rejected\n",
       "2       489756      326584      H0 is rejected\n",
       "3       489756      675201      H0 is rejected\n",
       "4       489756      201436      H0 is rejected\n",
       "5       361254      874521  H0 is not rejected\n",
       "6       361254      326584      H0 is rejected\n",
       "7       361254      675201  H0 is not rejected\n",
       "8       361254      201436  H0 is not rejected\n",
       "9       874521      326584      H0 is rejected\n",
       "10      874521      675201  H0 is not rejected\n",
       "11      874521      201436  H0 is not rejected\n",
       "12      326584      675201      H0 is rejected\n",
       "13      326584      201436      H0 is rejected\n",
       "14      675201      201436  H0 is not rejected"
      ]
     },
     "execution_count": 11,
     "metadata": {},
     "output_type": "execute_result"
    }
   ],
   "source": [
    "result_df = pd.DataFrame()\n",
    "result_df[\"Category 1\"] = [x[0] for x in result]\n",
    "result_df[\"Category 2\"] = [x[1] for x in result]\n",
    "result_df[\"H0\"] = [x[2] for x in result]\n",
    "result_df"
   ]
  },
  {
   "cell_type": "markdown",
   "metadata": {},
   "source": [
    "## Problems\n",
    "\n",
    "Does the price of the item differ by category?"
   ]
  },
  {
   "cell_type": "code",
   "execution_count": 21,
   "metadata": {},
   "outputs": [
    {
     "data": {
      "text/html": [
       "<div>\n",
       "<style scoped>\n",
       "    .dataframe tbody tr th:only-of-type {\n",
       "        vertical-align: middle;\n",
       "    }\n",
       "\n",
       "    .dataframe tbody tr th {\n",
       "        vertical-align: top;\n",
       "    }\n",
       "\n",
       "    .dataframe thead th {\n",
       "        text-align: right;\n",
       "    }\n",
       "</style>\n",
       "<table border=\"1\" class=\"dataframe\">\n",
       "  <thead>\n",
       "    <tr style=\"text-align: right;\">\n",
       "      <th></th>\n",
       "      <th>Category 1</th>\n",
       "      <th>Category 2</th>\n",
       "      <th>H0</th>\n",
       "    </tr>\n",
       "  </thead>\n",
       "  <tbody>\n",
       "    <tr>\n",
       "      <th>5</th>\n",
       "      <td>361254</td>\n",
       "      <td>874521</td>\n",
       "      <td>H0 is not rejected</td>\n",
       "    </tr>\n",
       "    <tr>\n",
       "      <th>7</th>\n",
       "      <td>361254</td>\n",
       "      <td>675201</td>\n",
       "      <td>H0 is not rejected</td>\n",
       "    </tr>\n",
       "    <tr>\n",
       "      <th>8</th>\n",
       "      <td>361254</td>\n",
       "      <td>201436</td>\n",
       "      <td>H0 is not rejected</td>\n",
       "    </tr>\n",
       "    <tr>\n",
       "      <th>10</th>\n",
       "      <td>874521</td>\n",
       "      <td>675201</td>\n",
       "      <td>H0 is not rejected</td>\n",
       "    </tr>\n",
       "    <tr>\n",
       "      <th>11</th>\n",
       "      <td>874521</td>\n",
       "      <td>201436</td>\n",
       "      <td>H0 is not rejected</td>\n",
       "    </tr>\n",
       "    <tr>\n",
       "      <th>14</th>\n",
       "      <td>675201</td>\n",
       "      <td>201436</td>\n",
       "      <td>H0 is not rejected</td>\n",
       "    </tr>\n",
       "  </tbody>\n",
       "</table>\n",
       "</div>"
      ],
      "text/plain": [
       "    Category 1  Category 2                  H0\n",
       "5       361254      874521  H0 is not rejected\n",
       "7       361254      675201  H0 is not rejected\n",
       "8       361254      201436  H0 is not rejected\n",
       "10      874521      675201  H0 is not rejected\n",
       "11      874521      201436  H0 is not rejected\n",
       "14      675201      201436  H0 is not rejected"
      ]
     },
     "execution_count": 21,
     "metadata": {},
     "output_type": "execute_result"
    }
   ],
   "source": [
    "result_df[result_df[\"H0\"] == \"H0 is not rejected\"]"
   ]
  },
  {
   "cell_type": "markdown",
   "metadata": {},
   "source": [
    "There is no statistically significant difference average price between 6 categorical groups."
   ]
  },
  {
   "cell_type": "code",
   "execution_count": 20,
   "metadata": {},
   "outputs": [
    {
     "data": {
      "text/html": [
       "<div>\n",
       "<style scoped>\n",
       "    .dataframe tbody tr th:only-of-type {\n",
       "        vertical-align: middle;\n",
       "    }\n",
       "\n",
       "    .dataframe tbody tr th {\n",
       "        vertical-align: top;\n",
       "    }\n",
       "\n",
       "    .dataframe thead th {\n",
       "        text-align: right;\n",
       "    }\n",
       "</style>\n",
       "<table border=\"1\" class=\"dataframe\">\n",
       "  <thead>\n",
       "    <tr style=\"text-align: right;\">\n",
       "      <th></th>\n",
       "      <th>Category 1</th>\n",
       "      <th>Category 2</th>\n",
       "      <th>H0</th>\n",
       "    </tr>\n",
       "  </thead>\n",
       "  <tbody>\n",
       "    <tr>\n",
       "      <th>0</th>\n",
       "      <td>489756</td>\n",
       "      <td>361254</td>\n",
       "      <td>H0 is rejected</td>\n",
       "    </tr>\n",
       "    <tr>\n",
       "      <th>1</th>\n",
       "      <td>489756</td>\n",
       "      <td>874521</td>\n",
       "      <td>H0 is rejected</td>\n",
       "    </tr>\n",
       "    <tr>\n",
       "      <th>2</th>\n",
       "      <td>489756</td>\n",
       "      <td>326584</td>\n",
       "      <td>H0 is rejected</td>\n",
       "    </tr>\n",
       "    <tr>\n",
       "      <th>3</th>\n",
       "      <td>489756</td>\n",
       "      <td>675201</td>\n",
       "      <td>H0 is rejected</td>\n",
       "    </tr>\n",
       "    <tr>\n",
       "      <th>4</th>\n",
       "      <td>489756</td>\n",
       "      <td>201436</td>\n",
       "      <td>H0 is rejected</td>\n",
       "    </tr>\n",
       "    <tr>\n",
       "      <th>6</th>\n",
       "      <td>361254</td>\n",
       "      <td>326584</td>\n",
       "      <td>H0 is rejected</td>\n",
       "    </tr>\n",
       "    <tr>\n",
       "      <th>9</th>\n",
       "      <td>874521</td>\n",
       "      <td>326584</td>\n",
       "      <td>H0 is rejected</td>\n",
       "    </tr>\n",
       "    <tr>\n",
       "      <th>12</th>\n",
       "      <td>326584</td>\n",
       "      <td>675201</td>\n",
       "      <td>H0 is rejected</td>\n",
       "    </tr>\n",
       "    <tr>\n",
       "      <th>13</th>\n",
       "      <td>326584</td>\n",
       "      <td>201436</td>\n",
       "      <td>H0 is rejected</td>\n",
       "    </tr>\n",
       "  </tbody>\n",
       "</table>\n",
       "</div>"
      ],
      "text/plain": [
       "    Category 1  Category 2              H0\n",
       "0       489756      361254  H0 is rejected\n",
       "1       489756      874521  H0 is rejected\n",
       "2       489756      326584  H0 is rejected\n",
       "3       489756      675201  H0 is rejected\n",
       "4       489756      201436  H0 is rejected\n",
       "6       361254      326584  H0 is rejected\n",
       "9       874521      326584  H0 is rejected\n",
       "12      326584      675201  H0 is rejected\n",
       "13      326584      201436  H0 is rejected"
      ]
     },
     "execution_count": 20,
     "metadata": {},
     "output_type": "execute_result"
    }
   ],
   "source": [
    "result_df[result_df[\"H0\"] == \"H0 is rejected\"]"
   ]
  },
  {
   "cell_type": "markdown",
   "metadata": {},
   "source": [
    "There is a statistically significant difference average price between 9 categorical groups"
   ]
  },
  {
   "cell_type": "markdown",
   "metadata": {},
   "source": [
    "### What should the item cost?\n",
    "The average of 4 statistically identical categories will be the price we will determine."
   ]
  },
  {
   "cell_type": "code",
   "execution_count": 13,
   "metadata": {},
   "outputs": [
    {
     "name": "stdout",
     "output_type": "stream",
     "text": [
      "Price : 37.0924\n"
     ]
    }
   ],
   "source": [
    "not_rejected = [361254, 874521, 675201, 201436]\n",
    "sum = 0\n",
    "for i in not_rejected:\n",
    "    sum += df.loc[df[\"category_id\"] == i,  \"price\"].mean()\n",
    "PRICE = sum / 4\n",
    "\n",
    "print(\"Price : %.4f\" % PRICE)"
   ]
  },
  {
   "cell_type": "markdown",
   "metadata": {},
   "source": [
    "Flexible Price Range"
   ]
  },
  {
   "cell_type": "code",
   "execution_count": 14,
   "metadata": {},
   "outputs": [
    {
     "name": "stdout",
     "output_type": "stream",
     "text": [
      "Flexible Price Range: (36.7109597897918, 38.17576299427283)\n"
     ]
    }
   ],
   "source": [
    "prices = []\n",
    "for category in not_rejected:\n",
    "    for i in df.loc[df[\"category_id\"] == category, \"price\"]:\n",
    "        prices.append(i)\n",
    "\n",
    "print(f'Flexible Price Range: {sms.DescrStatsW(prices).tconfint_mean()}')"
   ]
  },
  {
   "cell_type": "markdown",
   "metadata": {},
   "source": [
    "the prices of the 4 categories that selected for pricing."
   ]
  },
  {
   "cell_type": "markdown",
   "metadata": {},
   "source": [
    "### Income Simulation\n",
    "\n",
    "We will calculate the incomes that can be obtained from the minimum, maximum values of the\n",
    "confidence interval and the prices we set."
   ]
  },
  {
   "cell_type": "code",
   "execution_count": 15,
   "metadata": {},
   "outputs": [
    {
     "name": "stdout",
     "output_type": "stream",
     "text": [
      "Income: 38436.374899912014\n"
     ]
    }
   ],
   "source": [
    "# for minimum price in confidence interval\n",
    "freq = len(df[df[\"price\"] >= 36.7109597897918])\n",
    "# number of sales equal to or greater than this price\n",
    "income = freq * 36.7109597897918\n",
    "print(f'Income: {income}')"
   ]
  },
  {
   "cell_type": "code",
   "execution_count": 16,
   "metadata": {},
   "outputs": [
    {
     "name": "stdout",
     "output_type": "stream",
     "text": [
      "Income: 37611.6936\n"
     ]
    }
   ],
   "source": [
    "freq = len(df[df[\"price\"] >= 37.0924])\n",
    "# number of sales equal to or greater than this price\n",
    "income = freq * 37.0924\n",
    "print(f'Income: {income}')"
   ]
  },
  {
   "cell_type": "code",
   "execution_count": 17,
   "metadata": {},
   "outputs": [
    {
     "name": "stdout",
     "output_type": "stream",
     "text": [
      "Income: 35388.93229569092\n"
     ]
    }
   ],
   "source": [
    "# for maximum price in confidence interval\n",
    "freq = len(df[df[\"price\"] >= 38.17576299427283])\n",
    "# number of sales equal to or greater than this price\n",
    "income = freq * 38.17576299427283\n",
    "print(f'Income: {income}')"
   ]
  }
 ],
 "metadata": {
  "kernelspec": {
   "display_name": "Python 3",
   "language": "python",
   "name": "python3"
  },
  "language_info": {
   "codemirror_mode": {
    "name": "ipython",
    "version": 3
   },
   "file_extension": ".py",
   "mimetype": "text/x-python",
   "name": "python",
   "nbconvert_exporter": "python",
   "pygments_lexer": "ipython3",
   "version": "3.8.3"
  }
 },
 "nbformat": 4,
 "nbformat_minor": 4
}
